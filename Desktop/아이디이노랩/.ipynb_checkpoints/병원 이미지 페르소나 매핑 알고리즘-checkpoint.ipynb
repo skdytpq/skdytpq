{
 "cells": [
  {
   "cell_type": "code",
   "execution_count": 60,
   "id": "0ddc1616",
   "metadata": {},
   "outputs": [
    {
     "name": "stderr",
     "output_type": "stream",
     "text": [
      "C:\\Users\\82103\\anaconda3\\lib\\site-packages\\pandas\\core\\computation\\expressions.py:21: UserWarning: Pandas requires version '2.7.3' or newer of 'numexpr' (version '2.7.1' currently installed).\n",
      "  from pandas.core.computation.check import NUMEXPR_INSTALLED\n"
     ]
    }
   ],
   "source": [
    "import pandas as pd"
   ]
  },
  {
   "cell_type": "markdown",
   "id": "1562f795",
   "metadata": {},
   "source": [
    "### 이미지 요소\n",
    "Image(입원실, 로비 등): ID  \n",
    "면적 당 가구 배치: area(0-20)  \n",
    "인테리어 요소 배치: interior(0-20)  \n",
    "TV 및 편의 요소 배치: tv_conv(0-20)  \n",
    "편의 요소 대비 사람의 수: people_conv(0-20)  \n",
    "가구 대비 사람의 수: furniture(0-20)\n",
    "\n",
    "### 페르소나 키\n",
    "내향/외향(성격유형): IE(0-5)  \n",
    "감각/직관(성격유형): SN(0-5)  \n",
    "판단/인식(성격유형): JP(0-5)  \n",
    "\n",
    "트렌드민감도(일반적인 소비성향): Trend(0-5)  \n",
    "\n",
    "상품/서비스 품질(소비결정영향요인): Quality(0-5)  \n",
    "이용편의성(소비결정영향요인): Easy(0-5)  \n",
    "\n",
    "나이(10~60대): Age(10, 20, 30, 40, 50, 60)  "
   ]
  },
  {
   "cell_type": "code",
   "execution_count": 7,
   "id": "1b4122fa",
   "metadata": {},
   "outputs": [],
   "source": [
    "ID = 12 # Image ID\n",
    "area = 20 # 면적 당 가구 배치\n",
    "interior = 20 # 인테리어 요소 배치\n",
    "tv_conv = 20 # TV 및 편의 요소 배치\n",
    "people_conv = 20 # 편의 요소 대비 사람의 수\n",
    "furniture = 20 # 가구 대비 사람의 수"
   ]
  },
  {
   "cell_type": "code",
   "execution_count": 8,
   "id": "32869572",
   "metadata": {
    "scrolled": true
   },
   "outputs": [
    {
     "name": "stdout",
     "output_type": "stream",
     "text": [
      "내향/외향 점수 : 5\n",
      "감각/직관 점수 : 0.1\n",
      "판단/인식 점수 : 0.1\n",
      "트렌드민감도 점수 : 5\n",
      "상품/서비스 품질 : 5\n",
      "이용편의성 : 5\n",
      "나이대 : 10\n"
     ]
    }
   ],
   "source": [
    "IE = float(input('내향/외향 점수 : '))\n",
    "SN = float(input('감각/직관 점수 : '))\n",
    "JP = float(input('판단/인식 점수 : '))\n",
    "Trend = float(input('트렌드민감도 점수 : '))\n",
    "Quality = float(input('상품/서비스 품질 : '))\n",
    "Easy = float(input('이용편의성 : '))\n",
    "Age = int(input('나이대 : '))"
   ]
  },
  {
   "cell_type": "markdown",
   "id": "673d0199",
   "metadata": {},
   "source": [
    "**면적 당 가구 배치**  \n",
    "SN점수와 JP점수가 작을수록 점수가 커짐"
   ]
  },
  {
   "cell_type": "code",
   "execution_count": 61,
   "id": "522bd50e",
   "metadata": {},
   "outputs": [],
   "source": [
    "def area_f(x, y, z): # x = SN, y = JP, z = area\n",
    "    x_score = 0\n",
    "    y_score = 0\n",
    "    if 0.1 <= x and x <= 1.0:\n",
    "        x_score = 30\n",
    "    elif 1.1 <= x and x <= 2.0:\n",
    "        x_score = 25\n",
    "    elif 2.1 <= x and x <= 3.0:\n",
    "        x_score = 20\n",
    "    elif 3.1 <= x and x <= 4.0:\n",
    "        x_score = 15\n",
    "    elif 4.1 <= x and x <= 5.0:\n",
    "        x_score = 10\n",
    "    result_x = x_score + z\n",
    "    \n",
    "    if 0.1 <= y and y <= 1.0:\n",
    "        y_score = 30\n",
    "    elif 1.1 <= y and y <= 2.0:\n",
    "        y_score = 25\n",
    "    elif 2.1 <= y and y <= 3.0:\n",
    "        y_score = 20\n",
    "    elif 3.1 <= y and y <= 4.0:\n",
    "        y_score = 15\n",
    "    elif 4.1 <= y and y <= 5.0:\n",
    "        y_score = 10\n",
    "    result_y = y_score + z\n",
    "    \n",
    "    result = result_x + result_y\n",
    "    return result"
   ]
  },
  {
   "cell_type": "markdown",
   "id": "0c5066b1",
   "metadata": {},
   "source": [
    "**인테리어 요소 배치**  \n",
    "트렌드 민감도와 이용편의성 점수와 비례"
   ]
  },
  {
   "cell_type": "code",
   "execution_count": 16,
   "id": "b88f67d3",
   "metadata": {},
   "outputs": [],
   "source": [
    "def interior_f(x, y ,z): # x = Trend, y = Easy, z = interior\n",
    "    result = 0.5*x*z + 0.5*y*z\n",
    "    return result"
   ]
  },
  {
   "cell_type": "markdown",
   "id": "aa5b322b",
   "metadata": {},
   "source": [
    "**TV 및 편의 요소 배치**  \n",
    "이용편의성 점수와 비례"
   ]
  },
  {
   "cell_type": "code",
   "execution_count": 18,
   "id": "fe36c29d",
   "metadata": {},
   "outputs": [],
   "source": [
    "def tv_conv_f(x, y): # x = Easy, y = tv_conv\n",
    "    result = x*y\n",
    "    return result"
   ]
  },
  {
   "cell_type": "markdown",
   "id": "c359fb69",
   "metadata": {},
   "source": [
    "**편의 요소 대비 사람의 수**  \n",
    "내향/외향 점수와 이용 편의성 점수와 비례"
   ]
  },
  {
   "cell_type": "code",
   "execution_count": 21,
   "id": "ee682cf5",
   "metadata": {},
   "outputs": [],
   "source": [
    "def people_conv_f(x, y ,z): # x = IE, y = Easy, z = people_conv\n",
    "    result = 0.5*x*z + 0.5*y*z\n",
    "    return result"
   ]
  },
  {
   "cell_type": "markdown",
   "id": "efb42b31",
   "metadata": {},
   "source": [
    "**가구 대비 사람의 수**  \n",
    "내향/외향 점수와 비례, 나이대가 작을수록 점수가 커짐"
   ]
  },
  {
   "cell_type": "code",
   "execution_count": 29,
   "id": "d325418a",
   "metadata": {},
   "outputs": [],
   "source": [
    "def furniture_f(x, y ,z): # x = IE, y = Age, z = furniture\n",
    "    x_score = 0.5*x*z\n",
    "    y_score = 40-y+z\n",
    "    result = x_score + y_score\n",
    "    return result"
   ]
  },
  {
   "cell_type": "markdown",
   "id": "74a43be7",
   "metadata": {},
   "source": [
    "**총첨 500점 만점을 백분율로 나타냄**"
   ]
  },
  {
   "cell_type": "code",
   "execution_count": 63,
   "id": "36726446",
   "metadata": {},
   "outputs": [],
   "source": [
    "area_score = area_f(SN, JP, area)\n",
    "interior_score = interior_f(Trend, Easy, interior)\n",
    "tv_conv_score = tv_conv_f(Easy, tv_conv)\n",
    "people_conv_score = people_conv_f(IE, Easy, people_conv)\n",
    "furniture_score = furniture_f(IE, Age, furniture)\n",
    "\n",
    "total_score = area_score + interior_score + tv_conv_score + people_conv_score + furniture_score\n",
    "total_score /= 5"
   ]
  },
  {
   "cell_type": "code",
   "execution_count": 64,
   "id": "a436083d",
   "metadata": {},
   "outputs": [
    {
     "name": "stdout",
     "output_type": "stream",
     "text": [
      "ID: 12, score: 100.0\n"
     ]
    }
   ],
   "source": [
    "print(f'ID: {ID}, score:', total_score)"
   ]
  },
  {
   "cell_type": "code",
   "execution_count": null,
   "id": "7de3d6e7",
   "metadata": {},
   "outputs": [],
   "source": []
  }
 ],
 "metadata": {
  "kernelspec": {
   "display_name": "Python 3 (ipykernel)",
   "language": "python",
   "name": "python3"
  },
  "language_info": {
   "codemirror_mode": {
    "name": "ipython",
    "version": 3
   },
   "file_extension": ".py",
   "mimetype": "text/x-python",
   "name": "python",
   "nbconvert_exporter": "python",
   "pygments_lexer": "ipython3",
   "version": "3.9.13"
  }
 },
 "nbformat": 4,
 "nbformat_minor": 5
}
